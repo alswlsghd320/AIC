{
 "cells": [
  {
   "cell_type": "markdown",
   "metadata": {},
   "source": [
    "<i>Copyright (c) Microsoft Corporation. All rights reserved.</i>\n",
    "\n",
    "<i>Licensed under the MIT License.</i>"
   ]
  },
  {
   "cell_type": "markdown",
   "metadata": {},
   "source": [
    "# Fine-tuning an Action Recognition Model on HMDB51\n",
    "\n",
    "In this notebook, we demonstrate how to get the SOTA results for the [HMDB51](http://serre-lab.clps.brown.edu/resource/hmdb-a-large-human-motion-database/) human action dataset using the R(2+1)D model."
   ]
  },
  {
   "cell_type": "markdown",
   "metadata": {},
   "source": [
    "## Initialization"
   ]
  },
  {
   "cell_type": "markdown",
   "metadata": {},
   "source": [
    "Import all the functions we need"
   ]
  },
  {
   "cell_type": "code",
   "execution_count": 1,
   "metadata": {
    "scrolled": true
   },
   "outputs": [
    {
     "name": "stdout",
     "output_type": "stream",
     "text": [
      "3.8.3 | packaged by conda-forge | (default, Jun  1 2020, 17:43:00) \n",
      "[GCC 7.5.0] \n",
      "\n",
      "PyTorch 1.5.1 \n",
      "\n",
      "Torch-vision 0.6.1 \n",
      "\n",
      "Available devices:\n",
      "0: GeForce RTX 2080 Ti\n"
     ]
    }
   ],
   "source": [
    "import sys\n",
    "sys.path.append(\"../../\")\n",
    "import time\n",
    "import os\n",
    "import numpy as np\n",
    "import torch\n",
    "import torch.cuda as cuda\n",
    "import torch.nn as nn\n",
    "import torchvision\n",
    "import requests\n",
    "import warnings\n",
    "\n",
    "from model import VideoLearner\n",
    "from dataset import VideoRecord, VideoDataset\n",
    "from data import Urls\n",
    "from gpu import system_info\n",
    "from data import data_path, download\n",
    "\n",
    "system_info()\n",
    "warnings.filterwarnings('ignore')"
   ]
  },
  {
   "cell_type": "markdown",
   "metadata": {},
   "source": [
    "This shows your machine's GPUs (if it has any) and the computing device `torch/torchvision` is using."
   ]
  },
  {
   "cell_type": "code",
   "execution_count": 2,
   "metadata": {},
   "outputs": [],
   "source": [
    "# Ensure edits to libraries are loaded and plotting is shown in the notebook.\n",
    "%reload_ext autoreload\n",
    "%autoreload 2\n",
    "%matplotlib inline"
   ]
  },
  {
   "cell_type": "markdown",
   "metadata": {},
   "source": [
    "Next, set some model runtime parameters. \n",
    "\n",
    "Using the paramters below, one can reproduce published results on the HMDB-51 dataset. Video-clip accuracy of close to 80%  can be obtained using as input to the DNN 32 consecutive frames (`MODEL_INPUT_SIZE`) and running 48 training epochs. Even using only 8 epochs the accuracy already reaches 75%. Inference and training speed can be reduced by a factor of 3-4 by setting `MODEL_INPUT_SIZE=8` and using higher batch size, however at a significant loss in accuracy."
   ]
  },
  {
   "cell_type": "code",
   "execution_count": 3,
   "metadata": {
    "tags": [
     "parameters"
    ]
   },
   "outputs": [],
   "source": [
    "# Number of consecutive frames used as input to the DNN. Recommended: 32 for high accuracy, 8 for inference speed.\n",
    "MODEL_INPUT_SIZE = 32\n",
    "\n",
    "# Batch size. Reduce if running out of memory.\n",
    "BATCH_SIZE = 4\n",
    "\n",
    "# Number of training epochs\n",
    "EPOCHS = 8\n",
    "\n",
    "# Learning rate\n",
    "LR = 0.0001"
   ]
  },
  {
   "cell_type": "markdown",
   "metadata": {},
   "source": [
    "## Downloading HMDB51"
   ]
  },
  {
   "cell_type": "markdown",
   "metadata": {},
   "source": [
    "Since we're trying to train our model ont he hmdb51 dataset, we'll need to download it. You find the link to download it [here](http://serre-lab.clps.brown.edu/resource/hmdb-a-large-human-motion-database/). Once downloaded, set `VIDEO_DIR` to the location of the videos."
   ]
  },
  {
   "cell_type": "code",
   "execution_count": 4,
   "metadata": {},
   "outputs": [],
   "source": [
    "DATA_ROOT = os.path.join(\"data\", \"ucf101\")\n",
    "VIDEO_DIR = os.path.join(DATA_ROOT, \"videos\")\n",
    "VIDEO_DIR2 = os.path.join(DATA_ROOT, \"videos2\")"
   ]
  },
  {
   "cell_type": "code",
   "execution_count": 5,
   "metadata": {},
   "outputs": [
    {
     "data": {
      "text/plain": [
       "'data/ucf101'"
      ]
     },
     "execution_count": 5,
     "metadata": {},
     "output_type": "execute_result"
    }
   ],
   "source": [
    "DATA_ROOT"
   ]
  },
  {
   "cell_type": "markdown",
   "metadata": {},
   "source": [
    "For this notebook, we'll try to reproduce the SOTA results on HMDB51 using a specific train/test split known simply as \"split1\". Download the split and specify where the download location."
   ]
  },
  {
   "cell_type": "code",
   "execution_count": 6,
   "metadata": {},
   "outputs": [],
   "source": [
    "TRAIN_SPLIT = os.path.join(DATA_ROOT, \"train.txt\")\n",
    "TEST_SPLIT = os.path.join(DATA_ROOT, \"test.txt\")"
   ]
  },
  {
   "cell_type": "markdown",
   "metadata": {},
   "source": [
    "---\n",
    "\n",
    "# Prepare HMDB51 using the Video Dataset\n",
    "\n",
    "We can load the downloaded HMBD51 dataset into our `VideoDataset` class by simply passing it the location of the folder. We demonstrated how this is done in the previous [01_training_introduction.ipynb](./01_training_notebook.ipynb) notebook. \n",
    "\n",
    "However, because we're trying to reproduce the results in the paper, we'll have to use a specific split of the training and testing data as defined by the `TRAIN_SPLIT` and `TEST_SPLIT` files. This is refered to in the paper as \"split1\". Conviniently, the `VideoDataset` class can take in a __train_split_file__ and a __test_split_file__ as parameters, so we can pass it directly into the VideoDataset.\n",
    "\n",
    "For these parameters to work, the file must come in the following format:\n",
    "```\n",
    "<action_type>/<video_name> <label_number>\n",
    "```\n",
    "\n",
    "Here's what the top part __hmdb51_vid_train_split_1.txt__ looks like.\n",
    "```\n",
    "fencing/AHF_Rapier_fencing_f_cm_np2_le_bad_2 13\n",
    "situp/Timed_situps_1_minute_situp_f_nm_np1_ri_med_1 38\n",
    "brush_hair/Aussie_Brunette_Brushing_Hair_II_brush_hair_u_nm_np2_le_goo_0 0\n",
    "swing_baseball/BaseballHitinSlowMotion_swing_baseball_f_nm_np1_le_bad_1 43\n",
    "clap/#20_Rhythm_clap_u_nm_np1_le_goo_3 4\n",
    "laugh/Skype_Laughter_by_Hungary_laugh_h_nm_np2_fr_goo_1 23\n",
    "ride_horse/ChampagneRunattheParkHT_ride_horse_f_cm_np1_ri_med_1 31\n",
    "swing_baseball/practicingmybaseballswing2009_swing_baseball_f_cm_np1_fr_med_5 43\n",
    "...\n",
    "```\n",
    "\n",
    "Notice that the extension (\".mp3\", \".avi\") is passed in separately."
   ]
  },
  {
   "cell_type": "code",
   "execution_count": 7,
   "metadata": {},
   "outputs": [],
   "source": [
    "data = VideoDataset(\n",
    "    VIDEO_DIR,\n",
    "    train_split_file=TRAIN_SPLIT,\n",
    "    test_split_file=TEST_SPLIT,\n",
    "    batch_size=BATCH_SIZE,\n",
    "    sample_length=MODEL_INPUT_SIZE,\n",
    "    video_ext=\"avi\"\n",
    ")"
   ]
  },
  {
   "cell_type": "code",
   "execution_count": 8,
   "metadata": {},
   "outputs": [],
   "source": [
    "data2 = VideoDataset(\n",
    "    VIDEO_DIR2,\n",
    "    train_split_file=TRAIN_SPLIT,\n",
    "    test_split_file=TEST_SPLIT,\n",
    "    batch_size=BATCH_SIZE,\n",
    "    sample_length=MODEL_INPUT_SIZE\n",
    ")"
   ]
  },
  {
   "cell_type": "markdown",
   "metadata": {},
   "source": [
    "Here's what the train/test split ends up looking like."
   ]
  },
  {
   "cell_type": "code",
   "execution_count": 9,
   "metadata": {},
   "outputs": [
    {
     "name": "stdout",
     "output_type": "stream",
     "text": [
      "Training dataset: 5377 | Training DataLoader: <torch.utils.data.dataloader.DataLoader object at 0x7f5a5d9eafa0>     \n",
      "Testing dataset: 1388 | Testing DataLoader: <torch.utils.data.dataloader.DataLoader object at 0x7f5a5814b5e0>\n"
     ]
    }
   ],
   "source": [
    "print(\n",
    "    f\"Training dataset: {len(data.train_ds)} | Training DataLoader: {data.train_dl} \\\n",
    "    \\nTesting dataset: {len(data.test_ds)} | Testing DataLoader: {data.test_dl}\"\n",
    ")"
   ]
  },
  {
   "cell_type": "markdown",
   "metadata": {},
   "source": [
    "Now that the data is loaded, we can take a quick look at some samples."
   ]
  },
  {
   "cell_type": "code",
   "execution_count": null,
   "metadata": {},
   "outputs": [],
   "source": [
    "data.show_batch(rows=2)"
   ]
  },
  {
   "cell_type": "markdown",
   "metadata": {},
   "source": [
    "Lets also take a look at the (default) parameters that we're using:"
   ]
  },
  {
   "cell_type": "code",
   "execution_count": 9,
   "metadata": {},
   "outputs": [
    {
     "name": "stdout",
     "output_type": "stream",
     "text": [
      "sample_length: 32\n",
      "sample_step: 1\n",
      "temporal_jitter: True\n",
      "temporal_jitter_step: 2\n",
      "random_shift: True\n",
      "\n"
     ]
    }
   ],
   "source": [
    "print(f\"\"\"\\\n",
    "sample_length: {data.sample_length}\n",
    "sample_step: {data.sample_step}\n",
    "temporal_jitter: {data.temporal_jitter}\n",
    "temporal_jitter_step: {data.temporal_jitter_step}\n",
    "random_shift: {data.random_shift}\n",
    "\"\"\")"
   ]
  },
  {
   "cell_type": "markdown",
   "metadata": {},
   "source": [
    "## Setup the Video Learner"
   ]
  },
  {
   "cell_type": "code",
   "execution_count": 11,
   "metadata": {},
   "outputs": [
    {
     "name": "stdout",
     "output_type": "stream",
     "text": [
      "Loading r2plus1d_34_32_ig65m model\n"
     ]
    },
    {
     "name": "stderr",
     "output_type": "stream",
     "text": [
      "Using cache found in /home/shkim/.cache/torch/hub/moabitcoin_ig65m-pytorch_master\n"
     ]
    }
   ],
   "source": [
    "learner = VideoLearner(data, num_classes=51)"
   ]
  },
  {
   "cell_type": "code",
   "execution_count": 12,
   "metadata": {},
   "outputs": [
    {
     "data": {
      "text/plain": [
       "Linear(in_features=512, out_features=51, bias=True)"
      ]
     },
     "execution_count": 12,
     "metadata": {},
     "output_type": "execute_result"
    }
   ],
   "source": [
    "learner.model.fc"
   ]
  },
  {
   "cell_type": "code",
   "execution_count": 24,
   "metadata": {
    "scrolled": true
   },
   "outputs": [
    {
     "name": "stdout",
     "output_type": "stream",
     "text": [
      "Params to learn:\n",
      "\tfull network\n",
      "Epoch 1 =========================================================\n",
      "lr=[0.0001]\n",
      " Phase train: batch 200 of 1345\n",
      " Phase train: batch 400 of 1345\n",
      " Phase train: batch 600 of 1345\n",
      " Phase train: batch 800 of 1345\n",
      " Phase train: batch 1000 of 1345\n",
      " Phase train: batch 1200 of 1345\n",
      "train took 783.59 sec | loss = 2.9715 | top1_acc = 33.5503  | top5_acc = 64.8317\n",
      " Phase valid: batch 200 of 347\n",
      "valid took 57.48 sec | loss = 1.6209 | top1_acc = 55.9798  | top5_acc = 85.2305\n",
      "Epoch 2 =========================================================\n",
      "lr=[0.0001]\n",
      " Phase train: batch 200 of 1345\n",
      " Phase train: batch 400 of 1345\n",
      " Phase train: batch 600 of 1345\n",
      " Phase train: batch 800 of 1345\n",
      " Phase train: batch 1000 of 1345\n",
      " Phase train: batch 1200 of 1345\n",
      "train took 777.63 sec | loss = 1.6434 | top1_acc = 68.2909  | top5_acc = 91.4822\n",
      " Phase valid: batch 200 of 347\n",
      "valid took 57.76 sec | loss = 1.1935 | top1_acc = 70.3170  | top5_acc = 90.7060\n",
      "Epoch 3 =========================================================\n",
      "lr=[0.0001]\n",
      " Phase train: batch 200 of 1345\n",
      " Phase train: batch 400 of 1345\n",
      " Phase train: batch 600 of 1345\n",
      " Phase train: batch 800 of 1345\n",
      " Phase train: batch 1000 of 1345\n",
      " Phase train: batch 1200 of 1345\n",
      "train took 796.46 sec | loss = 1.1019 | top1_acc = 76.3251  | top5_acc = 94.6810\n",
      " Phase valid: batch 200 of 347\n",
      "valid took 273.10 sec | loss = 1.0903 | top1_acc = 74.4957  | top5_acc = 91.8588\n",
      "Epoch 4 =========================================================\n",
      "lr=[0.0001]\n",
      " Phase train: batch 200 of 1345\n",
      " Phase train: batch 400 of 1345\n",
      " Phase train: batch 600 of 1345\n",
      " Phase train: batch 800 of 1345\n",
      " Phase train: batch 1000 of 1345\n",
      " Phase train: batch 1200 of 1345\n",
      "train took 851.80 sec | loss = 0.8734 | top1_acc = 80.5654  | top5_acc = 95.5551\n",
      " Phase valid: batch 200 of 347\n",
      "valid took 57.69 sec | loss = 1.2054 | top1_acc = 74.1354  | top5_acc = 91.5706\n",
      "Epoch 5 =========================================================\n",
      "lr=[0.0001]\n",
      " Phase train: batch 200 of 1345\n",
      " Phase train: batch 400 of 1345\n",
      " Phase train: batch 600 of 1345\n",
      " Phase train: batch 800 of 1345\n",
      " Phase train: batch 1000 of 1345\n",
      " Phase train: batch 1200 of 1345\n",
      "train took 777.58 sec | loss = 0.7130 | top1_acc = 83.3550  | top5_acc = 96.9314\n",
      " Phase valid: batch 200 of 347\n",
      "valid took 72.64 sec | loss = 1.0251 | top1_acc = 77.4496  | top5_acc = 93.8040\n",
      "Epoch 6 =========================================================\n",
      "lr=[0.0001]\n",
      " Phase train: batch 200 of 1345\n",
      " Phase train: batch 400 of 1345\n",
      " Phase train: batch 600 of 1345\n",
      " Phase train: batch 800 of 1345\n",
      " Phase train: batch 1000 of 1345\n",
      " Phase train: batch 1200 of 1345\n",
      "train took 804.44 sec | loss = 0.6198 | top1_acc = 85.6611  | top5_acc = 97.3033\n",
      " Phase valid: batch 200 of 347\n",
      "valid took 57.81 sec | loss = 1.1941 | top1_acc = 75.4323  | top5_acc = 91.0663\n",
      "Epoch 7 =========================================================\n",
      "lr=[1.0000000000000002e-06]\n",
      " Phase train: batch 200 of 1345\n",
      " Phase train: batch 400 of 1345\n",
      " Phase train: batch 600 of 1345\n",
      " Phase train: batch 800 of 1345\n",
      " Phase train: batch 1000 of 1345\n",
      " Phase train: batch 1200 of 1345\n",
      "train took 777.82 sec | loss = 0.4662 | top1_acc = 89.6039  | top5_acc = 97.9171\n",
      " Phase valid: batch 200 of 347\n",
      "valid took 57.62 sec | loss = 0.7542 | top1_acc = 82.9971  | top5_acc = 95.9654\n",
      "Epoch 8 =========================================================\n",
      "lr=[1e-05]\n",
      " Phase train: batch 200 of 1345\n",
      " Phase train: batch 400 of 1345\n",
      " Phase train: batch 600 of 1345\n",
      " Phase train: batch 800 of 1345\n",
      " Phase train: batch 1000 of 1345\n",
      " Phase train: batch 1200 of 1345\n",
      "train took 777.81 sec | loss = 0.4220 | top1_acc = 90.9987  | top5_acc = 98.5680\n",
      " Phase valid: batch 200 of 347\n",
      "valid took 57.68 sec | loss = 0.8147 | top1_acc = 82.5648  | top5_acc = 94.8847\n"
     ]
    },
    {
     "data": {
      "image/png": "[encoded data removed]",
      "text/plain": [
       "<Figure size 720x360 with 2 Axes>"
      ]
     },
     "metadata": {
      "needs_background": "light"
     },
     "output_type": "display_data"
    }
   ],
   "source": [
    "learner.fit(lr=LR, epochs=EPOCHS)"
   ]
  },
  {
   "cell_type": "markdown",
   "metadata": {},
   "source": [
    "# Training 4-dim"
   ]
  },
  {
   "cell_type": "code",
   "execution_count": 10,
   "metadata": {},
   "outputs": [],
   "source": [
    "train_len = len(data.train_ds)\n",
    "train_range = torch.arange(0, len(data.train_ds))\n",
    "test_range = torch.arange(0, len(data.test_ds))"
   ]
  },
  {
   "cell_type": "code",
   "execution_count": null,
   "metadata": {},
   "outputs": [],
   "source": [
    "z = []\n",
    "for i in range(len(data.train_ds)):    \n",
    "    x, a = list(data.train_ds[i])\n",
    "    y, b = list(data2.train_ds[i])\n",
    "    z.append((torch.cat([x, y[0:1]], dim=0), a))\n"
   ]
  },
  {
   "cell_type": "code",
   "execution_count": null,
   "metadata": {},
   "outputs": [],
   "source": [
    "import copy\n",
    "from torch.utils.data import Dataset, Subset, DataLoader"
   ]
  },
  {
   "cell_type": "code",
   "execution_count": null,
   "metadata": {},
   "outputs": [],
   "source": [
    "data2.train_ds = copy.deepcopy(Subset(z, train_range))"
   ]
  },
  {
   "cell_type": "code",
   "execution_count": null,
   "metadata": {},
   "outputs": [],
   "source": [
    "z = []\n",
    "for i in range(len(data.test_ds)):    \n",
    "    x, a = list(data.test_ds[i])\n",
    "    y, b = list(data2.test_ds[i])\n",
    "    z.append((torch.cat([x, y[0:1]], dim=0), a))\n",
    "data2.test_ds = copy.deepcopy(Subset(z, test_range))"
   ]
  },
  {
   "cell_type": "code",
   "execution_count": 18,
   "metadata": {},
   "outputs": [],
   "source": [
    "data2.train_dl = DataLoader(\n",
    "    data2.train_ds,\n",
    "    batch_size=BATCH_SIZE,\n",
    "    shuffle=True,#########\n",
    "    num_workers=1,\n",
    "    pin_memory=True,\n",
    ")\n",
    "\n",
    "data2.test_dl = DataLoader(\n",
    "    data2.test_ds,\n",
    "    batch_size=BATCH_SIZE,\n",
    "    shuffle=False,\n",
    "    num_workers=1,\n",
    "    pin_memory=True,\n",
    ")"
   ]
  },
  {
   "cell_type": "code",
   "execution_count": 19,
   "metadata": {},
   "outputs": [
    {
     "name": "stdout",
     "output_type": "stream",
     "text": [
      "Loading r2plus1d_34_32_ig65m model\n"
     ]
    },
    {
     "name": "stderr",
     "output_type": "stream",
     "text": [
      "Using cache found in /home/shkim/.cache/torch/hub/moabitcoin_ig65m-pytorch_master\n"
     ]
    }
   ],
   "source": [
    "learner_4dim = VideoLearner(data2, num_classes=51)\n",
    "learner_4dim.model.stem[0] = nn.Conv3d(4, 45, kernel_size=(1, 7, 7), stride=(1, 2, 2), padding=(0, 3, 3), bias=False)"
   ]
  },
  {
   "cell_type": "code",
   "execution_count": 20,
   "metadata": {},
   "outputs": [
    {
     "data": {
      "text/plain": [
       "Conv3d(3, 45, kernel_size=(1, 7, 7), stride=(1, 2, 2), padding=(0, 3, 3), bias=False)"
      ]
     },
     "execution_count": 20,
     "metadata": {},
     "output_type": "execute_result"
    }
   ],
   "source": [
    "learner.model.stem[0]"
   ]
  },
  {
   "cell_type": "code",
   "execution_count": 21,
   "metadata": {},
   "outputs": [
    {
     "data": {
      "text/plain": [
       "torch.Size([45, 4, 1, 7, 7])"
      ]
     },
     "execution_count": 21,
     "metadata": {},
     "output_type": "execute_result"
    }
   ],
   "source": [
    "a = learner.model.stem[0].weight.clone()\n",
    "b = a[:,0:1,...] + a[:,1:2,...] + a[:,2:3,...] / 3\n",
    "a = torch.cat([a, b], dim = 1)\n",
    "a.shape"
   ]
  },
  {
   "cell_type": "code",
   "execution_count": 22,
   "metadata": {},
   "outputs": [],
   "source": [
    "with torch.no_grad():\n",
    "    learner_4dim.model.stem[0].weight.copy_(a)"
   ]
  },
  {
   "cell_type": "code",
   "execution_count": 23,
   "metadata": {},
   "outputs": [
    {
     "data": {
      "text/plain": [
       "True"
      ]
     },
     "execution_count": 23,
     "metadata": {},
     "output_type": "execute_result"
    }
   ],
   "source": [
    "learner_4dim.model.stem[0].weight.is_leaf"
   ]
  },
  {
   "cell_type": "code",
   "execution_count": 25,
   "metadata": {},
   "outputs": [
    {
     "name": "stdout",
     "output_type": "stream",
     "text": [
      "Params to learn:\n",
      "\tfull network\n",
      "Epoch 1 =========================================================\n",
      "lr=[0.0001]\n",
      " Phase train: batch 200 of 1345\n",
      " Phase train: batch 400 of 1345\n",
      " Phase train: batch 600 of 1345\n",
      " Phase train: batch 800 of 1345\n",
      " Phase train: batch 1000 of 1345\n",
      " Phase train: batch 1200 of 1345\n",
      "train took 772.47 sec | loss = 3.0772 | top1_acc = 30.0725  | top5_acc = 60.2195\n",
      " Phase valid: batch 200 of 347\n",
      "valid took 52.37 sec | loss = 1.9076 | top1_acc = 51.0086  | top5_acc = 84.4380\n",
      "Epoch 2 =========================================================\n",
      "lr=[0.0001]\n",
      " Phase train: batch 200 of 1345\n",
      " Phase train: batch 400 of 1345\n",
      " Phase train: batch 600 of 1345\n",
      " Phase train: batch 800 of 1345\n",
      " Phase train: batch 1000 of 1345\n",
      " Phase train: batch 1200 of 1345\n",
      "train took 773.61 sec | loss = 1.7772 | top1_acc = 63.9948  | top5_acc = 89.8084\n",
      " Phase valid: batch 200 of 347\n",
      "valid took 52.14 sec | loss = 1.5093 | top1_acc = 63.1844  | top5_acc = 86.0230\n",
      "Epoch 3 =========================================================\n",
      "lr=[0.0001]\n",
      " Phase train: batch 200 of 1345\n",
      " Phase train: batch 400 of 1345\n",
      " Phase train: batch 600 of 1345\n",
      " Phase train: batch 800 of 1345\n",
      " Phase train: batch 1000 of 1345\n",
      " Phase train: batch 1200 of 1345\n",
      "train took 773.46 sec | loss = 1.0829 | top1_acc = 78.5010  | top5_acc = 95.9829\n",
      " Phase valid: batch 200 of 347\n",
      "valid took 52.13 sec | loss = 1.2428 | top1_acc = 71.9741  | top5_acc = 90.1297\n",
      "Epoch 4 =========================================================\n",
      "lr=[0.0001]\n",
      " Phase train: batch 200 of 1345\n",
      " Phase train: batch 400 of 1345\n",
      " Phase train: batch 600 of 1345\n",
      " Phase train: batch 800 of 1345\n",
      " Phase train: batch 1000 of 1345\n",
      " Phase train: batch 1200 of 1345\n",
      "train took 773.48 sec | loss = 0.6817 | top1_acc = 87.0188  | top5_acc = 98.0658\n",
      " Phase valid: batch 200 of 347\n",
      "valid took 52.26 sec | loss = 1.4569 | top1_acc = 70.9654  | top5_acc = 87.4640\n",
      "Epoch 5 =========================================================\n",
      "lr=[0.0001]\n",
      " Phase train: batch 200 of 1345\n",
      " Phase train: batch 400 of 1345\n",
      " Phase train: batch 600 of 1345\n",
      " Phase train: batch 800 of 1345\n",
      " Phase train: batch 1000 of 1345\n",
      " Phase train: batch 1200 of 1345\n",
      "train took 773.88 sec | loss = 0.4667 | top1_acc = 91.8170  | top5_acc = 98.6982\n",
      " Phase valid: batch 200 of 347\n",
      "valid took 52.42 sec | loss = 1.4738 | top1_acc = 72.0461  | top5_acc = 89.6974\n",
      "Epoch 6 =========================================================\n",
      "lr=[0.0001]\n",
      " Phase train: batch 200 of 1345\n",
      " Phase train: batch 400 of 1345\n",
      " Phase train: batch 600 of 1345\n",
      " Phase train: batch 800 of 1345\n",
      " Phase train: batch 1000 of 1345\n",
      " Phase train: batch 1200 of 1345\n",
      "train took 774.05 sec | loss = 0.3373 | top1_acc = 94.1417  | top5_acc = 99.4607\n",
      " Phase valid: batch 200 of 347\n",
      "valid took 52.27 sec | loss = 1.7314 | top1_acc = 67.5072  | top5_acc = 86.5994\n",
      "Epoch 7 =========================================================\n",
      "lr=[1.0000000000000002e-06]\n",
      " Phase train: batch 200 of 1345\n",
      " Phase train: batch 400 of 1345\n",
      " Phase train: batch 600 of 1345\n",
      " Phase train: batch 800 of 1345\n",
      " Phase train: batch 1000 of 1345\n",
      " Phase train: batch 1200 of 1345\n",
      "train took 773.86 sec | loss = 0.2041 | top1_acc = 97.8055  | top5_acc = 99.7768\n",
      " Phase valid: batch 200 of 347\n",
      "valid took 52.26 sec | loss = 1.4694 | top1_acc = 74.9279  | top5_acc = 89.6974\n",
      "Epoch 8 =========================================================\n",
      "lr=[1e-05]\n",
      " Phase train: batch 200 of 1345\n",
      " Phase train: batch 400 of 1345\n",
      " Phase train: batch 600 of 1345\n",
      " Phase train: batch 800 of 1345\n",
      " Phase train: batch 1000 of 1345\n",
      " Phase train: batch 1200 of 1345\n",
      "train took 773.79 sec | loss = 0.1658 | top1_acc = 98.5680  | top5_acc = 99.9628\n",
      " Phase valid: batch 200 of 347\n",
      "valid took 52.42 sec | loss = 1.5797 | top1_acc = 76.6571  | top5_acc = 89.9135\n"
     ]
    },
    {
     "data": {
      "image/png": "[encoded data removed]",
      "text/plain": [
       "<Figure size 720x360 with 2 Axes>"
      ]
     },
     "metadata": {
      "needs_background": "light"
     },
     "output_type": "display_data"
    }
   ],
   "source": [
    "learner_4dim.fit(lr=LR, epochs=EPOCHS)"
   ]
  },
  {
   "cell_type": "markdown",
   "metadata": {},
   "source": [
    "## Model Test"
   ]
  },
  {
   "cell_type": "markdown",
   "metadata": {},
   "source": [
    "Finally, we want to evaluate our model on our test set. To do so, we'll uniformly sample 10 clips from each test video, to produce a tensor of [10 x 3 x (8 or 32) x 112 x 112] that we call our prediction on. This will give us the *clip-level accuracy* for batches of 10 at time. We also want to calculate the *video-level accuracy* which we can get by simply averaging the clip-level accuracy."
   ]
  },
  {
   "cell_type": "code",
   "execution_count": null,
   "metadata": {},
   "outputs": [],
   "source": [
    "ret = learner.evaluate()"
   ]
  },
  {
   "cell_type": "markdown",
   "metadata": {},
   "source": [
    "The reported accuracy from \"Closer look\" paper is 74.5% (clip accuracy of 66.1% on split1 based on VMZ repo). You can see that by using the following parameters, we are able to reproduce the state of the art result at ~77% accuracy.\n",
    "```\n",
    "MODEL_INPUT_SIZE = 32\n",
    "BATCH_SIZE = 4\n",
    "EPOCHS = 8\n",
    "LR = 0.0001\n",
    "```"
   ]
  },
  {
   "cell_type": "code",
   "execution_count": null,
   "metadata": {},
   "outputs": [],
   "source": []
  }
 ],
 "metadata": {
  "kernelspec": {
   "display_name": "maskrcnn_benchmark",
   "language": "python",
   "name": "maskrcnn_benchmark"
  },
  "language_info": {
   "codemirror_mode": {
    "name": "ipython",
    "version": 3
   },
   "file_extension": ".py",
   "mimetype": "text/x-python",
   "name": "python",
   "nbconvert_exporter": "python",
   "pygments_lexer": "ipython3",
   "version": "3.8.3"
  }
 },
 "nbformat": 4,
 "nbformat_minor": 2
}